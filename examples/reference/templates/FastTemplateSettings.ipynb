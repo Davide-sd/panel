{
 "cells": [
  {
   "cell_type": "code",
   "execution_count": null,
   "id": "9cac2ac6-e75a-43fa-b033-db9acf02ae8f",
   "metadata": {},
   "outputs": [],
   "source": [
    "import panel as pn\n",
    "from panel.template.fast.settings import FastTemplateSettings\n",
    "\n",
    "pn.extension(sizing_mode = 'stretch_width')"
   ]
  },
  {
   "cell_type": "markdown",
   "id": "8578d00b-5274-46a7-90f0-03baa1fa72b1",
   "metadata": {},
   "source": [
    "The `FastTemplateSettings` component enables you to change the look and feel of the `FastListTemplate` and `FastGridTemplate` dynamically on a live app. \n",
    "\n",
    "#### Parameters:\n",
    "\n",
    "* **``template``** (FastListTemplate, FastGridTemplate): The template you want to change the parameters and style of. Must be provided on construction.\n",
    "* **``template_constructor``** (str): A string like `template=FastTemplate(..., background_color=..., ...)` with the current parameter values of the Template.\n",
    "\n",
    "If you need more control you can add the `editor` and `comms` sub-components individually instead.\n",
    "\n",
    "* **``editor``** (Column): A Column containing the settings editor. You would need to also include the `comms` in your app to enable bidirectional communication for template parameters.\n",
    "* **``comms``** (Column): A Column that contains the components that provides bidirectional communication to set and get the style values.\n",
    "\n",
    "#### Methods:\n",
    "\n",
    "The `FastTemplateSettings` component provides convenience methods to create designer apps to help you quickly experiment with the look and feel of the Templates.\n",
    "\n",
    "* **``create_list_designer``** (`FastListTemplate`): Returns a fully functional `FastListTemplate` with the `FastTemplateSettings` component added.\n",
    "* **``create_grid_designer``** (`FastGridTemplate`): Returns a fully functional `FastGridTemplate` with the `FastTemplateSettings` component added."
   ]
  },
  {
   "cell_type": "code",
   "execution_count": null,
   "id": "5ad58ab8-a6d1-4f5e-9e83-dc7be2ecbe15",
   "metadata": {},
   "outputs": [],
   "source": [
    "template = pn.template.FastListTemplate(\n",
    "            site=\"Panel\",\n",
    "            title=\"FastListTemplate\",\n",
    "            font=\"Comic Sans MS\",\n",
    "        )\n",
    "\n",
    "fast_template_settings = FastTemplateSettings(template)\n",
    "fast_template_settings"
   ]
  },
  {
   "cell_type": "code",
   "execution_count": null,
   "id": "7480ba54-59b7-4ddd-aac4-0f0b2ae2977e",
   "metadata": {},
   "outputs": [],
   "source": [
    "template.sidebar[:]=[fast_template_settings]\n",
    "template.main[:]=[\n",
    "    \"# Hello Panel World\", \n",
    "    pn.widgets.Button(name=\"Click Me\", button_type=\"primary\"), \n",
    "    pn.Param(fast_template_settings.param.template_constructor, widgets={\"template_constructor\": {\"type\": pn.widgets.TextAreaInput, \"height\": 350}})\n",
    " ]\n",
    "template.servable();"
   ]
  },
  {
   "cell_type": "markdown",
   "id": "4e3b84ab-62dc-486a-b2ae-becaad6f67f9",
   "metadata": {},
   "source": [
    "You can serve the app via `panel serve FastTemplateSettings.ipynb`.\n",
    "\n",
    "<img src=\"../../assets/FastTemplateSettings.gif\" style=\"height: 600px;display:block;margin-left:auto;margin-right:auto\"></img>\n",
    "\n",
    "You can also checkout the [FastListTemplate Designer](../../gallery/templates/FastListTemplateDesigner.ipynb) and [FastGridTemplate Designer](../../gallery/templates/FastGridTemplateDesigner.ipynb) gallery examples."
   ]
  }
 ],
 "metadata": {
  "kernelspec": {
   "display_name": "Python 3",
   "language": "python",
   "name": "python3"
  },
  "language_info": {
   "codemirror_mode": {
    "name": "ipython",
    "version": 3
   },
   "file_extension": ".py",
   "mimetype": "text/x-python",
   "name": "python",
   "nbconvert_exporter": "python",
   "pygments_lexer": "ipython3",
   "version": "3.8.4"
  }
 },
 "nbformat": 4,
 "nbformat_minor": 5
}
