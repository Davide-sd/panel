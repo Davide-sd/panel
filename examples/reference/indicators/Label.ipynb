{
 "cells": [
  {
   "cell_type": "code",
   "execution_count": null,
   "metadata": {},
   "outputs": [],
   "source": [
    "import panel as pn\n",
    "\n",
    "pn.extension(sizing_mode=\"stretch_width\")"
   ]
  },
  {
   "cell_type": "markdown",
   "metadata": {},
   "source": [
    "The ``Label`` is a value indicator providing a visual representation of a dictionary of labels (key) and their scores (value). For example the result of a machine learning classification.\n",
    "\n",
    "#### Parameters:\n",
    "\n",
    "For layout and styling related parameters see the [customization user guide](../../user_guide/Customization.ipynb).\n",
    "\n",
    "* **``value``** (`dict`): A dictionary of labels (key) and their scores (value). For example  `{\"egyptian\": 0.22, \"tabby cat\": 0.18, \"tiger cat\": 0.13, \"lynx\": 0.09, \"Siamese cat\": 0.04}`.\n",
    "* **``top``** (`int`): The maximum number of labels to plots. Default is 5.\n",
    "* **``color``** (`str`): The color of the bars. Default is the same as the Fast Templates accent_base_color.\n",
    "* **``theme``** (`str`): One of `default` or `dark`. Automatically set if used together with the Fast Templates."
   ]
  },
  {
   "cell_type": "code",
   "execution_count": null,
   "metadata": {},
   "outputs": [],
   "source": [
    "ACCENT_COLOR = \"#926AA6\"\n",
    "labels = {\"egyptian\": 0.22, \"tabby cat\": 0.18, \"tiger cat\": 0.13, \"lynx\": 0.09, \"Siamese cat\": 0.04, \"aaa\": 0.01, \"bbb\": 0.01, \"ccc\": 0.01, \"ddd\": 0.01, \"eee\": 0.01}\n",
    "    \n",
    "label = pn.indicators.Label(value=labels, color=ACCENT_COLOR, top=3, height=300, sizing_mode=\"stretch_width\", name=\"Labels from classification\"\n",
    ")\n",
    "label"
   ]
  },
  {
   "cell_type": "markdown",
   "metadata": {},
   "source": [
    "## App\n",
    "\n",
    "Lets wrap it up in a nice template"
   ]
  },
  {
   "cell_type": "code",
   "execution_count": null,
   "metadata": {},
   "outputs": [],
   "source": [
    "pn.template.FastListTemplate(\n",
    "    title=\"Label\",\n",
    "    sidebar=[pn.Param(label, parameters=[\"top\", \"color\", \"value\"])],\n",
    "    main=[label],\n",
    "    accent_base_color=ACCENT_COLOR, header_background=ACCENT_COLOR\n",
    ").servable();"
   ]
  }
 ],
 "metadata": {
  "kernelspec": {
   "display_name": "Python 3",
   "language": "python",
   "name": "python3"
  },
  "language_info": {
   "codemirror_mode": {
    "name": "ipython",
    "version": 3
   },
   "file_extension": ".py",
   "mimetype": "text/x-python",
   "name": "python",
   "nbconvert_exporter": "python",
   "pygments_lexer": "ipython3",
   "version": "3.8.3"
  }
 },
 "nbformat": 4,
 "nbformat_minor": 4
}
