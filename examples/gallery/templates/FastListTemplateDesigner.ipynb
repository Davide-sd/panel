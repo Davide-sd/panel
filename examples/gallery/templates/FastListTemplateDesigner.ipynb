{
 "cells": [
  {
   "cell_type": "code",
   "execution_count": null,
   "id": "06c07ff3-5b80-465d-ba6b-e2ffae082bb1",
   "metadata": {},
   "outputs": [],
   "source": [
    "import panel as pn\n",
    "from panel.template.fast.settings import FastTemplateSettings\n",
    "\n",
    "pn.extension(sizing_mode=\"stretch_width\")"
   ]
  },
  {
   "cell_type": "markdown",
   "id": "290984d9-5aa4-4b5f-abb5-5eda6bd17be0",
   "metadata": {},
   "source": [
    "You can use the [`FastTemplateSettings`](../../reference/templates/FastTemplateSettings.ipynb) component to quickly create a fully fledged app *designer app* based on the `FastListTemplate`."
   ]
  },
  {
   "cell_type": "code",
   "execution_count": null,
   "id": "1d0aa609-a61b-452c-9070-9aac8a37155b",
   "metadata": {},
   "outputs": [],
   "source": [
    "FastTemplateSettings.create_list_designer().servable();"
   ]
  },
  {
   "cell_type": "markdown",
   "id": "0904e701-54b7-4149-83b9-a3e17c087639",
   "metadata": {},
   "source": [
    "You can serve the app via `panel serve FastListTemplateDesigner.ipynb`."
   ]
  },
  {
   "cell_type": "markdown",
   "id": "cd3484d1-697b-4924-8f03-af86d782a1f4",
   "metadata": {},
   "source": [
    "<img src=\"../../assets/FastListTemplateDesigner.gif\" style=\"height: 600px;display:block;margin-left:auto;margin-right:auto\"></img>"
   ]
  }
 ],
 "metadata": {
  "language_info": {
   "name": "python",
   "pygments_lexer": "ipython3"
  }
 },
 "nbformat": 4,
 "nbformat_minor": 5
}
