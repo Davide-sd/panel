{
 "cells": [
  {
   "cell_type": "code",
   "execution_count": null,
   "id": "06c07ff3-5b80-465d-ba6b-e2ffae082bb1",
   "metadata": {},
   "outputs": [],
   "source": [
    "import panel as pn\n",
    "from panel.template.fast.settings import FastTemplateSettings\n",
    "\n",
    "pn.extension(sizing_mode=\"stretch_width\")"
   ]
  },
  {
   "cell_type": "markdown",
   "id": "290984d9-5aa4-4b5f-abb5-5eda6bd17be0",
   "metadata": {},
   "source": [
    "You can use the [`FastTemplateSettings`](../../reference/templates/FastTemplateSettings.ipynb) component to quickly create a fully fledged app *designer app* based on the `FastListTemplate`."
   ]
  },
  {
   "cell_type": "code",
   "execution_count": null,
   "id": "1d0aa609-a61b-452c-9070-9aac8a37155b",
   "metadata": {},
   "outputs": [],
   "source": [
    "FastTemplateSettings.create_list_designer().servable();"
   ]
  },
  {
   "cell_type": "markdown",
   "id": "0904e701-54b7-4149-83b9-a3e17c087639",
   "metadata": {},
   "source": [
    "You can serve the app via `panel serve FastListTemplateDesigner.ipynb`."
   ]
  },
  {
   "cell_type": "markdown",
   "id": "cd3484d1-697b-4924-8f03-af86d782a1f4",
   "metadata": {},
   "source": [
    "<img src=\"../../assets/FastListTemplateDesigner.gif\" style=\"height: 600px;display:block;margin-left:auto;margin-right:auto\"></img>"
   ]
  }
 ],
 "metadata": {
  "kernelspec": {
   "display_name": "Python 3",
   "language": "python",
   "name": "python3"
  },
  "language_info": {
   "codemirror_mode": {
    "name": "ipython",
    "version": 3
   },
   "file_extension": ".py",
   "mimetype": "text/x-python",
   "name": "python",
   "nbconvert_exporter": "python",
   "pygments_lexer": "ipython3",
   "version": "3.8.4"
  }
 },
 "nbformat": 4,
 "nbformat_minor": 5
}
