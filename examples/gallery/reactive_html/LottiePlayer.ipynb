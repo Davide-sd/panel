{
 "cells": [
  {
   "cell_type": "code",
   "execution_count": null,
   "metadata": {},
   "outputs": [],
   "source": [
    "import panel as pn\n",
    "import param\n",
    "from panel.reactive import ReactiveHTML\n",
    "\n",
    "# pn.config.js_files[\"bodymovin\"]=\"https://cdnjs.cloudflare.com/ajax/libs/bodymovin/5.5.3/lottie_svg.min.js\"\n",
    "\n",
    "pn.extension()"
   ]
  },
  {
   "cell_type": "markdown",
   "metadata": {},
   "source": [
    "# Lottie Files using the AirBnB bodymovin js library\n",
    "\n",
    "Lottie Files are animations you can use in your web site. They are defined in a .json file. See [lottiefiles](https://lottiefiles.com/) for more info and lots of examples. \n",
    "\n",
    "Airbnb provides a [.js web library](https://airbnb.io/lottie/#/web?id=html-player-installation) for playing Lottie Files that we will try to use below."
   ]
  },
  {
   "cell_type": "markdown",
   "metadata": {},
   "source": [
    "## How would users easily add .js libraries?\n",
    "\n",
    "I tried addinng\n",
    "\n",
    "```python\n",
    "pn.config.js_files[\"bodymovin\"]=\"https://cdnjs.cloudflare.com/ajax/libs/bodymovin/5.5.3/lottie_svg.min.js\"\n",
    "```\n",
    "\n",
    "before `pn.extension()` above. But it gives\n",
    "\n",
    "```bash\n",
    "Javascript error adding output!\n",
    "Error: Mismatched anonymous define() module: function () { 'use...\n",
    "```\n",
    "\n",
    "After a lot of experimentation I find the below workaround."
   ]
  },
  {
   "cell_type": "code",
   "execution_count": null,
   "metadata": {},
   "outputs": [],
   "source": [
    "%%javascript\n",
    "require([\"https://cdnjs.cloudflare.com/ajax/libs/bodymovin/5.5.3/lottie_svg.min.js\"]);\n",
    "bodymovin=require(\"https://cdnjs.cloudflare.com/ajax/libs/bodymovin/5.5.3/lottie_svg.min.js\");"
   ]
  },
  {
   "cell_type": "markdown",
   "metadata": {},
   "source": [
    "## How would users easily add their own small scripts to a component?\n",
    "\n",
    "The script is not in a file. But just some script. It should only be \"loaded\" once. But can be used in across components and views of components"
   ]
  },
  {
   "cell_type": "code",
   "execution_count": null,
   "metadata": {},
   "outputs": [],
   "source": [
    "%%javascript\n",
    "function createAnimation(id, path){\n",
    "    console.log(id, path)\n",
    "    let targetElement = document.getElementById(id);\n",
    "\n",
    "    let lottieAnimation = bodymovin.loadAnimation({\n",
    "            container: targetElement,\n",
    "            renderer: 'svg',\n",
    "            loop: false,\n",
    "            autoplay: false,\n",
    "            path: path\n",
    "    });\n",
    "\n",
    "    targetElement.addEventListener('click', function() {\n",
    "      lottieAnimation.playSegments([0,60], true);\n",
    "    });\n",
    "\n",
    "}"
   ]
  },
  {
   "cell_type": "markdown",
   "metadata": {},
   "source": [
    "Lets define the `LottieSvg` component"
   ]
  },
  {
   "cell_type": "code",
   "execution_count": null,
   "metadata": {},
   "outputs": [],
   "source": [
    "html = \"\"\"\n",
    "<div class=\"pn-lottie\" id=\"div-${id}\"></div>\n",
    "\"\"\"\n",
    "script = \"\"\"\n",
    " <script>\n",
    "    console.log(\"${value}\")\n",
    "    console.log(\"creating\")\n",
    "    createAnimation(\"div-${id}\", \"${path}\")\n",
    "    console.log(\"created\")\n",
    "</script>\n",
    "\"\"\"\n",
    "\n",
    "LOTTIE_FILES = [\n",
    "    \"https://assets5.lottiefiles.com/packages/lf20_V9t630.json\",\n",
    "    \"https://raw.githubusercontent.com/thesvbd/Lottie-examples/master/assets/animations/skip-forward.json\",\n",
    "]\n",
    "\n",
    "class LottieSvg(ReactiveHTML):\n",
    "    path = param.ObjectSelector(LOTTIE_FILES[0], objects=LOTTIE_FILES)\n",
    "    value = param.String(\"abcd\")\n",
    "    \n",
    "    _html = html+script\n",
    "\n",
    "lottie = LottieSvg(height=200, width=200, background=\"lightgray\")\n",
    "\n",
    "pn.Row(pn.Param(lottie, parameters=[\"path\", \"value\"]), lottie)"
   ]
  },
  {
   "cell_type": "markdown",
   "metadata": {},
   "source": [
    "Try clicking the image and you will see it play"
   ]
  },
  {
   "cell_type": "markdown",
   "metadata": {},
   "source": [
    "## Why does nothing happen if I change the Path or Value?\n",
    "\n",
    "If I change the Path I would expect the image to change and the value to be written to the console.\n",
    "\n",
    "If I change the value I would expect the value to be written to the console.\n",
    "\n",
    "BUT NOTHING HAPPENS. WHY?\n",
    "\n",
    "It should work similarly to below example."
   ]
  },
  {
   "cell_type": "code",
   "execution_count": null,
   "metadata": {},
   "outputs": [],
   "source": [
    "class Input(ReactiveHTML):\n",
    "    \n",
    "    path = param.ObjectSelector(\"a\", [\"a\", \"b\", \"c\"])\n",
    "    \n",
    "    _html = '<input id=\"input-${id}\" value=\"${path}\"></input>'\n",
    "    \n",
    "i = Input()\n",
    "pn.Row(i.param.path, i)"
   ]
  },
  {
   "cell_type": "markdown",
   "metadata": {},
   "source": [
    "## Next Steps\n",
    "\n",
    "- Wrap the .js api by adding function for `.play()`, `stop()`, ... I would need to find out how.\n",
    "- Wrap the [lottie web component player](https://lottiefiles.com/web-player) in another notebook to compare and contrast js library vs web component implementation.\n",
    "\n",
    "```html\n",
    "<script src=\"https://unpkg.com/@lottiefiles/lottie-player@latest/dist/lottie-player.js\"></script>\n",
    "<lottie-player src=\"https://assets1.lottiefiles.com/datafiles/HN7OcWNnoqje6iXIiZdWzKxvLIbfeCGTmvXmEm1h/data.json\"  background=\"transparent\"  speed=\"1\"  style=\"width: 300px; height: 300px;\"  loop controls autoplay></lottie-player>\n",
    "```"
   ]
  }
 ],
 "metadata": {
  "kernelspec": {
   "display_name": "Python 3",
   "language": "python",
   "name": "python3"
  },
  "language_info": {
   "codemirror_mode": {
    "name": "ipython",
    "version": 3
   },
   "file_extension": ".py",
   "mimetype": "text/x-python",
   "name": "python",
   "nbconvert_exporter": "python",
   "pygments_lexer": "ipython3",
   "version": "3.7.8"
  }
 },
 "nbformat": 4,
 "nbformat_minor": 4
}
