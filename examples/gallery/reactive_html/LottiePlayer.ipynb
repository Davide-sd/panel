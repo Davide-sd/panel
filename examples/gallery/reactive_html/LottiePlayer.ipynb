{
 "cells": [
  {
   "cell_type": "code",
   "execution_count": null,
   "metadata": {},
   "outputs": [],
   "source": [
    "import panel as pn\n",
    "import param\n",
    "from panel.reactive import ReactiveHTML\n",
    "\n",
    "# pn.config.js_files[\"bodymovin\"]=\"https://cdnjs.cloudflare.com/ajax/libs/bodymovin/5.5.3/lottie_svg.min.js\"\n",
    "\n",
    "pn.extension()"
   ]
  },
  {
   "cell_type": "markdown",
   "metadata": {},
   "source": [
    "# Lottie Files using the AirBnB bodymovin js library\n",
    "\n",
    "Lottie Files are animations you can use in your web site. They are defined in a .json file. See [lottiefiles](https://lottiefiles.com/) for more info and lots of examples. \n",
    "\n",
    "Airbnb provides a [.js web library](https://airbnb.io/lottie/#/web?id=html-player-installation) for playing Lottie Files that we will try to use below."
   ]
  },
  {
   "cell_type": "markdown",
   "metadata": {},
   "source": [
    "## How would users easily add .js libraries?\n",
    "\n",
    "I tried adding\n",
    "\n",
    "```python\n",
    "pn.config.js_files[\"bodymovin\"]=\"https://cdnjs.cloudflare.com/ajax/libs/bodymovin/5.5.3/lottie_svg.min.js\"\n",
    "```\n",
    "\n",
    "before `pn.extension()` above. But it gives\n",
    "\n",
    "```bash\n",
    "Javascript error adding output!\n",
    "Error: Mismatched anonymous define() module: function () { 'use...\n",
    "```\n",
    "\n",
    "After a lot of experimentation I find the below `require_script`workaround below. You might need to run the cell several times before it works. "
   ]
  },
  {
   "cell_type": "markdown",
   "metadata": {},
   "source": [
    "## How would users easily add their own small scripts to a component?\n",
    "\n",
    "The `script` is not in a file. But just some script. It should only be \"loaded\" once. But can be used in across components and views of components"
   ]
  },
  {
   "cell_type": "markdown",
   "metadata": {},
   "source": [
    "Lets define the `LottieSvg` component"
   ]
  },
  {
   "cell_type": "code",
   "execution_count": null,
   "metadata": {},
   "outputs": [],
   "source": [
    "require_script = \"\"\"\n",
    "<script>\n",
    "require([\"https://cdnjs.cloudflare.com/ajax/libs/bodymovin/5.5.3/lottie_svg.min.js\"]);\n",
    "var bodymovin=require(\"https://cdnjs.cloudflare.com/ajax/libs/bodymovin/5.5.3/lottie_svg.min.js\");\n",
    "console.log(bodymovin)\n",
    "</script>\n",
    "\"\"\"\n",
    "script = \"\"\"\n",
    "<script>\n",
    "function createAnimation(id, path, loop, autoplay, speed){\n",
    "    console.log(id, path, loop)\n",
    "    let targetElement = document.getElementById(id);\n",
    "\n",
    "    let lottieAnimation = bodymovin.loadAnimation({\n",
    "            container: targetElement,\n",
    "            renderer: 'svg',\n",
    "            loop: loop,\n",
    "            autoplay: autoplay,\n",
    "            path: path,\n",
    "    });\n",
    "    lottieAnimation.setSpeed(speed)\n",
    "\n",
    "    return lottieAnimation\n",
    "}\n",
    "</script>\n",
    "\"\"\"\n",
    "\n",
    "script_panel = pn.pane.HTML(require_script+script, width=0, height=0, margin=0, sizing_mode=\"fixed\")\n",
    "\n",
    "LOTTIE_FILES = [\n",
    "    \"https://assets5.lottiefiles.com/packages/lf20_V9t630.json\",\n",
    "    \"https://raw.githubusercontent.com/thesvbd/Lottie-examples/master/assets/animations/skip-forward.json\",\n",
    "    \"https://raw.githubusercontent.com/thesvbd/Lottie-examples/master/assets/animations/calendar.json\",\n",
    "    \"https://raw.githubusercontent.com/thesvbd/Lottie-examples/master/assets/animations/loading.json\",\n",
    "    \"https://raw.githubusercontent.com/thesvbd/Lottie-examples/master/assets/animations/menu.json\",\n",
    "    \"https://labs.nearpod.com/bodymovin/demo/markus/halloween/markus.json\",\n",
    "    \"https://assets5.lottiefiles.com/packages/lf20_rycdh53q.json\",\n",
    "]\n",
    "\n",
    "class LottieSvg(ReactiveHTML):\n",
    "    path = param.ObjectSelector(LOTTIE_FILES[0], objects=LOTTIE_FILES)\n",
    "    \n",
    "    plays = param.Integer()\n",
    "    stops = param.Integer()\n",
    "    pauses = param.Integer()\n",
    "    loop = param.Boolean(False)\n",
    "    autoplay = param.Boolean(False)\n",
    "    \n",
    "    speed = param.Integer(1, bounds=(1,10))\n",
    "    \n",
    "    _html = '<div class=\"pn-lottie\" id=\"div-${id}\"></div>'\n",
    "\n",
    "    _scripts = {\n",
    "        'render': \"\"\"\n",
    "            if (animation_${id}) { animation_${id}.destroy() }\n",
    "            var animation_${id} = createAnimation(\"div-${id}\", \"${path}\", ${loop}, ${autoplay}, ${speed})\n",
    "        \"\"\",\n",
    "       'plays': \"if (${plays}>0) animation_${id}.play()\",\n",
    "       'stops': \"if (${stops}>0) animation_${id}.stop()\",\n",
    "       'pause': \"if (${pauses}>0) animation_${id}.pause()\",\n",
    "       'loop': \"animation_${id}.loop=${loop}\",\n",
    "       'autoplay': \"animation_${id}.autoplay=${autoplay}\",\n",
    "       'speed': \"animation_${id}.setSpeed(${speed})\",\n",
    "    }\n",
    "    \n",
    "lottie = LottieSvg(height=400, width=400, autoplay=True)\n",
    "settings = pn.Param(lottie, parameters=[\"path\", \"plays\", \"stops\", \"pauses\", \"loop\", \"autoplay\", \"speed\", \"quality\"])\n",
    "start_button = pn.widgets.Button(name=\"Start\", button_type=\"primary\")\n",
    "@param.depends(start_button.param.clicks, watch=True)\n",
    "def _play(*_):\n",
    "    lottie.plays+=1\n",
    "stop_button = pn.widgets.Button(name=\"Stop\")\n",
    "@param.depends(stop_button.param.clicks, watch=True)\n",
    "def _stop(*_):\n",
    "    lottie.stops+=1\n",
    "start_button.on_click=_play\n",
    "pause_button = pn.widgets.Button(name=\"Pause\")\n",
    "@param.depends(pause_button.param.clicks, watch=True)\n",
    "def _stop(*_):\n",
    "    lottie.pauses+=1\n",
    "controls=pn.Column(start_button, stop_button, pause_button)\n",
    "pn.Row(script_panel, pn.Column(settings, controls), lottie)"
   ]
  },
  {
   "cell_type": "markdown",
   "metadata": {},
   "source": [
    "## Challenges\n",
    "\n",
    "- Don't know how bodymovin lib should be efficiently loaded. `require_script`\n",
    "- Don't know how 'utils' js code should be included. `script`\n",
    "- Cannot have an action/ button on the component to play, pause or stop. That needs to be outside."
   ]
  },
  {
   "cell_type": "markdown",
   "metadata": {},
   "source": [
    "## Next Steps\n",
    "\n",
    "- Polish into nice reference example\n",
    "- Find out how I could should enable/ disable buttons"
   ]
  },
  {
   "cell_type": "code",
   "execution_count": null,
   "metadata": {},
   "outputs": [],
   "source": []
  }
 ],
 "metadata": {
  "kernelspec": {
   "display_name": "Python 3",
   "language": "python",
   "name": "python3"
  },
  "language_info": {
   "codemirror_mode": {
    "name": "ipython",
    "version": 3
   },
   "file_extension": ".py",
   "mimetype": "text/x-python",
   "name": "python",
   "nbconvert_exporter": "python",
   "pygments_lexer": "ipython3",
   "version": "3.7.8"
  }
 },
 "nbformat": 4,
 "nbformat_minor": 4
}
