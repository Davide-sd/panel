{
 "cells": [
  {
   "cell_type": "code",
   "execution_count": 10,
   "metadata": {},
   "outputs": [
    {
     "data": {
      "text/html": [
       "<script>\n",
       "requirejs.config(\n",
       "    {paths: { 'tabulator': ['https://unpkg.com/tabulator-tables@4.7.2/dist/js/tabulator.min']},}\n",
       ");\n",
       "if(!window.Tabulator) {\n",
       "    require(['tabulator'],function(tabulator) {window.Tabulator=tabulator;});\n",
       "}\n",
       "</script>\n"
      ],
      "text/plain": [
       "<IPython.core.display.HTML object>"
      ]
     },
     "metadata": {},
     "output_type": "display_data"
    }
   ],
   "source": [
    "%%html\n",
    "<script>\n",
    "requirejs.config(\n",
    "    {paths: { 'tabulator': ['https://unpkg.com/tabulator-tables@4.7.2/dist/js/tabulator.min']},}\n",
    ");\n",
    "if(!window.Tabulator) {\n",
    "    require(['tabulator'],function(tabulator) {window.Tabulator=tabulator;});\n",
    "}\n",
    "</script>"
   ]
  },
  {
   "cell_type": "code",
   "execution_count": null,
   "metadata": {},
   "outputs": [],
   "source": [
    "require.config({paths: {Algebra: 'https://unpkg.com/ganja.js@1.0.99/ganja'}});\n",
    "require(['Algebra'],function(Algebra){add_graph_to_notebook(Algebra)});"
   ]
  },
  {
   "cell_type": "code",
   "execution_count": 8,
   "metadata": {},
   "outputs": [
    {
     "data": {
      "text/html": [
       "<script>\n",
       "requirejs.config(\n",
       "    {paths: { 'bodymovin': ['https://cdnjs.cloudflare.com/ajax/libs/bodymovin/5.5.3/lottie_svg.min']},}\n",
       ");\n",
       "if(!window.bodymovin) {\n",
       "    require(['bodymovin'],function(bodymovin) {window.bodymovin=bodymovin;});\n",
       "}\n",
       "</script>\n"
      ],
      "text/plain": [
       "<IPython.core.display.HTML object>"
      ]
     },
     "metadata": {},
     "output_type": "display_data"
    }
   ],
   "source": [
    "%%html\n",
    "<script>\n",
    "requirejs.config(\n",
    "    {paths: { 'bodymovin': ['https://cdnjs.cloudflare.com/ajax/libs/bodymovin/5.5.3/lottie_svg.min.js']},}\n",
    ");\n",
    "if(!window.bodymovin) {\n",
    "    require(['bodymovin'],function(bodymovin) {window.bodymovin=bodymovin;});\n",
    "}\n",
    "</script>"
   ]
  },
  {
   "cell_type": "code",
   "execution_count": 12,
   "metadata": {},
   "outputs": [
    {
     "ename": "IndexError",
     "evalue": "list index out of range",
     "output_type": "error",
     "traceback": [
      "\u001b[1;31m---------------------------------------------------------------------------\u001b[0m",
      "\u001b[1;31mIndexError\u001b[0m                                Traceback (most recent call last)",
      "\u001b[1;32m<ipython-input-12-9e4033b76304>\u001b[0m in \u001b[0;36m<module>\u001b[1;34m\u001b[0m\n\u001b[0;32m      3\u001b[0m \u001b[1;32mfrom\u001b[0m \u001b[0mpanel\u001b[0m\u001b[1;33m.\u001b[0m\u001b[0mreactive\u001b[0m \u001b[1;32mimport\u001b[0m \u001b[0mReactiveHTML\u001b[0m\u001b[1;33m\u001b[0m\u001b[1;33m\u001b[0m\u001b[0m\n\u001b[0;32m      4\u001b[0m \u001b[0mpn\u001b[0m\u001b[1;33m.\u001b[0m\u001b[0mconfig\u001b[0m\u001b[1;33m.\u001b[0m\u001b[0mjs_files\u001b[0m\u001b[1;33m[\u001b[0m\u001b[1;34m\"lottiesvg\"\u001b[0m\u001b[1;33m]\u001b[0m\u001b[1;33m=\u001b[0m\u001b[1;34m\"https://cdnjs.com/libraries/bodymovin\"\u001b[0m\u001b[1;33m\u001b[0m\u001b[1;33m\u001b[0m\u001b[0m\n\u001b[1;32m----> 5\u001b[1;33m \u001b[0mpn\u001b[0m\u001b[1;33m.\u001b[0m\u001b[0mextension\u001b[0m\u001b[1;33m(\u001b[0m\u001b[1;33m)\u001b[0m\u001b[1;33m\u001b[0m\u001b[1;33m\u001b[0m\u001b[0m\n\u001b[0m",
      "\u001b[1;32mC:\\Users\\masma\\AppData\\Local\\Continuum\\anaconda3\\envs\\panel_dev2\\lib\\site-packages\\param\\parameterized.py\u001b[0m in \u001b[0;36m__new__\u001b[1;34m(class_, *args, **params)\u001b[0m\n\u001b[0;32m   3019\u001b[0m         \u001b[0minst\u001b[0m \u001b[1;33m=\u001b[0m \u001b[0mclass_\u001b[0m\u001b[1;33m.\u001b[0m\u001b[0minstance\u001b[0m\u001b[1;33m(\u001b[0m\u001b[1;33m)\u001b[0m\u001b[1;33m\u001b[0m\u001b[1;33m\u001b[0m\u001b[0m\n\u001b[0;32m   3020\u001b[0m         \u001b[0minst\u001b[0m\u001b[1;33m.\u001b[0m\u001b[0mparam\u001b[0m\u001b[1;33m.\u001b[0m\u001b[0m_set_name\u001b[0m\u001b[1;33m(\u001b[0m\u001b[0mclass_\u001b[0m\u001b[1;33m.\u001b[0m\u001b[0m__name__\u001b[0m\u001b[1;33m)\u001b[0m\u001b[1;33m\u001b[0m\u001b[1;33m\u001b[0m\u001b[0m\n\u001b[1;32m-> 3021\u001b[1;33m         \u001b[1;32mreturn\u001b[0m \u001b[0minst\u001b[0m\u001b[1;33m.\u001b[0m\u001b[0m__call__\u001b[0m\u001b[1;33m(\u001b[0m\u001b[1;33m*\u001b[0m\u001b[0margs\u001b[0m\u001b[1;33m,\u001b[0m\u001b[1;33m**\u001b[0m\u001b[0mparams\u001b[0m\u001b[1;33m)\u001b[0m\u001b[1;33m\u001b[0m\u001b[1;33m\u001b[0m\u001b[0m\n\u001b[0m\u001b[0;32m   3022\u001b[0m \u001b[1;33m\u001b[0m\u001b[0m\n\u001b[0;32m   3023\u001b[0m     \u001b[1;32mdef\u001b[0m \u001b[0m__call__\u001b[0m\u001b[1;33m(\u001b[0m\u001b[0mself\u001b[0m\u001b[1;33m,\u001b[0m\u001b[1;33m*\u001b[0m\u001b[0margs\u001b[0m\u001b[1;33m,\u001b[0m\u001b[1;33m**\u001b[0m\u001b[0mkw\u001b[0m\u001b[1;33m)\u001b[0m\u001b[1;33m:\u001b[0m\u001b[1;33m\u001b[0m\u001b[1;33m\u001b[0m\u001b[0m\n",
      "\u001b[1;32mc:\\repos\\private\\panel\\panel\\config.py\u001b[0m in \u001b[0;36m__call__\u001b[1;34m(self, *args, **params)\u001b[0m\n\u001b[0;32m    518\u001b[0m \u001b[1;33m\u001b[0m\u001b[0m\n\u001b[0;32m    519\u001b[0m         \u001b[1;32mif\u001b[0m \u001b[1;32mnot\u001b[0m \u001b[0mnb_load\u001b[0m \u001b[1;32mand\u001b[0m \u001b[0mhasattr\u001b[0m\u001b[1;33m(\u001b[0m\u001b[0mip\u001b[0m\u001b[1;33m,\u001b[0m \u001b[1;34m'kernel'\u001b[0m\u001b[1;33m)\u001b[0m\u001b[1;33m:\u001b[0m\u001b[1;33m\u001b[0m\u001b[1;33m\u001b[0m\u001b[0m\n\u001b[1;32m--> 520\u001b[1;33m             \u001b[0mload_notebook\u001b[0m\u001b[1;33m(\u001b[0m\u001b[0mconfig\u001b[0m\u001b[1;33m.\u001b[0m\u001b[0minline\u001b[0m\u001b[1;33m)\u001b[0m\u001b[1;33m\u001b[0m\u001b[1;33m\u001b[0m\u001b[0m\n\u001b[0m\u001b[0;32m    521\u001b[0m         \u001b[0mpanel_extension\u001b[0m\u001b[1;33m.\u001b[0m\u001b[0m_loaded\u001b[0m \u001b[1;33m=\u001b[0m \u001b[1;32mTrue\u001b[0m\u001b[1;33m\u001b[0m\u001b[1;33m\u001b[0m\u001b[0m\n\u001b[0;32m    522\u001b[0m \u001b[1;33m\u001b[0m\u001b[0m\n",
      "\u001b[1;32mc:\\repos\\private\\panel\\panel\\io\\notebook.py\u001b[0m in \u001b[0;36mload_notebook\u001b[1;34m(inline, load_timeout)\u001b[0m\n\u001b[0;32m    220\u001b[0m         \u001b[0msettings\u001b[0m\u001b[1;33m.\u001b[0m\u001b[0mresources\u001b[0m \u001b[1;33m=\u001b[0m \u001b[1;34m'inline'\u001b[0m \u001b[1;32mif\u001b[0m \u001b[0minline\u001b[0m \u001b[1;32melse\u001b[0m \u001b[1;34m'cdn'\u001b[0m\u001b[1;33m\u001b[0m\u001b[1;33m\u001b[0m\u001b[0m\n\u001b[0;32m    221\u001b[0m         \u001b[0mbundle\u001b[0m \u001b[1;33m=\u001b[0m \u001b[0mbundle_for_objs_and_resources\u001b[0m\u001b[1;33m(\u001b[0m\u001b[1;32mNone\u001b[0m\u001b[1;33m,\u001b[0m \u001b[0mresources\u001b[0m\u001b[1;33m)\u001b[0m\u001b[1;33m\u001b[0m\u001b[1;33m\u001b[0m\u001b[0m\n\u001b[1;32m--> 222\u001b[1;33m         \u001b[0mconfigs\u001b[0m\u001b[1;33m,\u001b[0m \u001b[0mrequirements\u001b[0m\u001b[1;33m,\u001b[0m \u001b[0mexports\u001b[0m\u001b[1;33m,\u001b[0m \u001b[0mskip_imports\u001b[0m \u001b[1;33m=\u001b[0m \u001b[0mrequire_components\u001b[0m\u001b[1;33m(\u001b[0m\u001b[1;33m)\u001b[0m\u001b[1;33m\u001b[0m\u001b[1;33m\u001b[0m\u001b[0m\n\u001b[0m\u001b[0;32m    223\u001b[0m         \u001b[0mipywidget\u001b[0m \u001b[1;33m=\u001b[0m \u001b[1;34m'ipywidgets_bokeh'\u001b[0m \u001b[1;32min\u001b[0m \u001b[0msys\u001b[0m\u001b[1;33m.\u001b[0m\u001b[0mmodules\u001b[0m\u001b[1;33m\u001b[0m\u001b[1;33m\u001b[0m\u001b[0m\n\u001b[0;32m    224\u001b[0m         bokeh_js = _autoload_js(bundle, configs, requirements, exports,\n",
      "\u001b[1;32mc:\\repos\\private\\panel\\panel\\compiler.py\u001b[0m in \u001b[0;36mrequire_components\u001b[1;34m()\u001b[0m\n\u001b[0;32m     40\u001b[0m \u001b[1;33m\u001b[0m\u001b[0m\n\u001b[0;32m     41\u001b[0m     \u001b[1;32mfor\u001b[0m \u001b[0mexport\u001b[0m\u001b[1;33m,\u001b[0m \u001b[0mjs\u001b[0m \u001b[1;32min\u001b[0m \u001b[0mconfig\u001b[0m\u001b[1;33m.\u001b[0m\u001b[0mjs_files\u001b[0m\u001b[1;33m.\u001b[0m\u001b[0mitems\u001b[0m\u001b[1;33m(\u001b[0m\u001b[1;33m)\u001b[0m\u001b[1;33m:\u001b[0m\u001b[1;33m\u001b[0m\u001b[1;33m\u001b[0m\u001b[0m\n\u001b[1;32m---> 42\u001b[1;33m         \u001b[0mname\u001b[0m \u001b[1;33m=\u001b[0m \u001b[0mjs\u001b[0m\u001b[1;33m.\u001b[0m\u001b[0msplit\u001b[0m\u001b[1;33m(\u001b[0m\u001b[1;34m'/'\u001b[0m\u001b[1;33m)\u001b[0m\u001b[1;33m[\u001b[0m\u001b[1;33m-\u001b[0m\u001b[1;36m1\u001b[0m\u001b[1;33m]\u001b[0m\u001b[1;33m.\u001b[0m\u001b[0mreplace\u001b[0m\u001b[1;33m(\u001b[0m\u001b[1;34m'.min'\u001b[0m\u001b[1;33m,\u001b[0m \u001b[1;34m''\u001b[0m\u001b[1;33m)\u001b[0m\u001b[1;33m.\u001b[0m\u001b[0msplit\u001b[0m\u001b[1;33m(\u001b[0m\u001b[1;34m'.'\u001b[0m\u001b[1;33m)\u001b[0m\u001b[1;33m[\u001b[0m\u001b[1;33m-\u001b[0m\u001b[1;36m2\u001b[0m\u001b[1;33m]\u001b[0m\u001b[1;33m\u001b[0m\u001b[1;33m\u001b[0m\u001b[0m\n\u001b[0m\u001b[0;32m     43\u001b[0m         \u001b[0mconf\u001b[0m \u001b[1;33m=\u001b[0m \u001b[1;33m{\u001b[0m\u001b[1;34m'paths'\u001b[0m\u001b[1;33m:\u001b[0m \u001b[1;33m{\u001b[0m\u001b[0mname\u001b[0m\u001b[1;33m:\u001b[0m \u001b[0mjs\u001b[0m\u001b[1;33m[\u001b[0m\u001b[1;33m:\u001b[0m\u001b[1;33m-\u001b[0m\u001b[1;36m3\u001b[0m\u001b[1;33m]\u001b[0m\u001b[1;33m}\u001b[0m\u001b[1;33m,\u001b[0m \u001b[1;34m'exports'\u001b[0m\u001b[1;33m:\u001b[0m \u001b[1;33m{\u001b[0m\u001b[0mname\u001b[0m\u001b[1;33m:\u001b[0m \u001b[0mexport\u001b[0m\u001b[1;33m}\u001b[0m\u001b[1;33m}\u001b[0m\u001b[1;33m\u001b[0m\u001b[1;33m\u001b[0m\u001b[0m\n\u001b[0;32m     44\u001b[0m         \u001b[0mjs_requires\u001b[0m\u001b[1;33m.\u001b[0m\u001b[0mappend\u001b[0m\u001b[1;33m(\u001b[0m\u001b[0mconf\u001b[0m\u001b[1;33m)\u001b[0m\u001b[1;33m\u001b[0m\u001b[1;33m\u001b[0m\u001b[0m\n",
      "\u001b[1;31mIndexError\u001b[0m: list index out of range"
     ]
    }
   ],
   "source": [
    "import panel as pn\n",
    "import param\n",
    "from panel.reactive import ReactiveHTML\n",
    "pn.config.js_files[\"lottiesvg\"]=\"https://cdnjs.cloudflare.com/ajax/libs/bodymovin/5.5.3/lottie_svg.min.js\"\n",
    "pn.extension()"
   ]
  },
  {
   "cell_type": "code",
   "execution_count": null,
   "metadata": {},
   "outputs": [],
   "source": [
    "class Slideshow(ReactiveHTML):\n",
    "    \n",
    "    index = param.Integer(default=0)\n",
    "    \n",
    "    _html = '<img id=\"img-${id}\" width=400 src=\"https://picsum.photos/800/300?image=${index}\"></img>'\n",
    "    \n",
    "    _dom_events = {'img': ['click']}\n",
    "    \n",
    "    def _img_click(self, event):\n",
    "        self.index += 1\n",
    "\n",
    "slide_show = Slideshow(height=150, index=0)\n",
    "slide_show"
   ]
  },
  {
   "cell_type": "code",
   "execution_count": null,
   "metadata": {},
   "outputs": [],
   "source": [
    "pn.Param(slide_show.param.index)"
   ]
  },
  {
   "cell_type": "code",
   "execution_count": null,
   "metadata": {},
   "outputs": [],
   "source": []
  },
  {
   "cell_type": "code",
   "execution_count": null,
   "metadata": {},
   "outputs": [],
   "source": [
    "%%html\n",
    "<script>\n",
    "function createAnimation(id){\n",
    "    let iconSkipForward = document.getElementById(\"div-\"+id)\n",
    "\n",
    "    let animationSkipForward = bodymovin.loadAnimation({\n",
    "            container: iconSkipForward,\n",
    "            renderer: 'svg',\n",
    "            loop: false,\n",
    "            autoplay: false,\n",
    "            path: \"https://raw.githubusercontent.com/thesvbd/Lottie-examples/master/assets/animations/skip-forward.json\"\n",
    "    });\n",
    "\n",
    "    iconSkipForward.addEventListener('click', function() {\n",
    "        animationSkipForward.playSegments([0,60], true);\n",
    "    })\n",
    "    return animationSkipForward\n",
    "}\n",
    "</script>"
   ]
  },
  {
   "cell_type": "code",
   "execution_count": null,
   "metadata": {},
   "outputs": [],
   "source": [
    "html = \"\"\"\n",
    "<div class=\"pn-lottie\" id=\"img-${id}\"></div>\n",
    "\"\"\"\n",
    "script = \"\"\"\n",
    " <script>\n",
    "    createAnimation(\"div-\"+${id}))\n",
    "</script>\n",
    "\"\"\"\n",
    "\n",
    "class LottieSvg(ReactiveHTML):\n",
    "    # path = param.String(\"https://raw.githubusercontent.com/thesvbd/Lottie-examples/master/assets/animations/skip-forward.json\")\n",
    "    \n",
    "    _html = html\n",
    "lottie = LottieSvg(height=200, width=200, background=\"lightgray\")\n",
    "lottie"
   ]
  },
  {
   "cell_type": "code",
   "execution_count": 11,
   "metadata": {},
   "outputs": [
    {
     "data": {
      "text/html": [
       "<script>\n",
       "function createAnimation(id){\n",
       "    let iconSkipForward = document.getElementById(\"div-\"+id)\n",
       "\n",
       "    let animationSkipForward = bodymovin.loadAnimation({\n",
       "            container: iconSkipForward,\n",
       "            renderer: 'svg',\n",
       "            loop: false,\n",
       "            autoplay: false,\n",
       "            path: \"https://raw.githubusercontent.com/thesvbd/Lottie-examples/master/assets/animations/skip-forward.json\"\n",
       "    });\n",
       "\n",
       "    iconSkipForward.addEventListener('click', function() {\n",
       "        animationSkipForward.playSegments([0,60], true);\n",
       "    })\n",
       "    return animationSkipForward\n",
       "}\n",
       "createAnimation(\"img-1012\")\n",
       "</script>\n"
      ],
      "text/plain": [
       "<IPython.core.display.HTML object>"
      ]
     },
     "metadata": {},
     "output_type": "display_data"
    }
   ],
   "source": [
    "%%html\n",
    "<script>\n",
    "function createAnimation(id){\n",
    "    let iconSkipForward = document.getElementById(\"div-\"+id)\n",
    "\n",
    "    let animationSkipForward = bodymovin.loadAnimation({\n",
    "            container: iconSkipForward,\n",
    "            renderer: 'svg',\n",
    "            loop: false,\n",
    "            autoplay: false,\n",
    "            path: \"https://raw.githubusercontent.com/thesvbd/Lottie-examples/master/assets/animations/skip-forward.json\"\n",
    "    });\n",
    "\n",
    "    iconSkipForward.addEventListener('click', function() {\n",
    "        animationSkipForward.playSegments([0,60], true);\n",
    "    })\n",
    "    return animationSkipForward\n",
    "}\n",
    "createAnimation(\"img-1012\")\n",
    "</script>"
   ]
  },
  {
   "cell_type": "code",
   "execution_count": null,
   "metadata": {},
   "outputs": [],
   "source": [
    "%%html\n",
    "<div id=\"div-1003\"></div>\n",
    "<style>\n",
    ".bodymovinanim {\n",
    "  width: 90%;\n",
    "  max-width: 50px;\n",
    "  margin-bottom: 30px;\n",
    "  cursor: pointer;\n",
    "}\n",
    "</style>\n",
    "<script>\n",
    "function createAnimation(id){\n",
    "    let iconSkipForward = document.getElementById(id);\n",
    "\n",
    "    let animationSkipForward = bodymovin.loadAnimation({\n",
    "            container: iconSkipForward,\n",
    "            renderer: 'svg',\n",
    "            loop: false,\n",
    "            autoplay: false,\n",
    "            path: \"https://raw.githubusercontent.com/thesvbd/Lottie-examples/master/assets/animations/skip-forward.json\"\n",
    "    });\n",
    "\n",
    "      iconSkipForward.addEventListener('click', function() {\n",
    "      animationSkipForward.playSegments([0,60], true);\n",
    "    });\n",
    "}\n",
    "createAnimation('div-1002')\n",
    "</script>"
   ]
  }
 ],
 "metadata": {
  "kernelspec": {
   "display_name": "Python 3",
   "language": "python",
   "name": "python3"
  },
  "language_info": {
   "codemirror_mode": {
    "name": "ipython",
    "version": 3
   },
   "file_extension": ".py",
   "mimetype": "text/x-python",
   "name": "python",
   "nbconvert_exporter": "python",
   "pygments_lexer": "ipython3",
   "version": "3.7.8"
  }
 },
 "nbformat": 4,
 "nbformat_minor": 4
}
