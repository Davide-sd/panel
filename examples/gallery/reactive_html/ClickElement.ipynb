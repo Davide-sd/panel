{
 "cells": [
  {
   "cell_type": "markdown",
   "metadata": {},
   "source": [
    "## `HTMLButton` Example\n",
    "\n",
    "In this example we will create a Panel `HTMLButton` extension that enables a user\n",
    "to catch a click event from any HTML element he/ she would like as shown below.\n",
    "\n",
    "[![html_button.py](https://awesome-panel.readthedocs.io/en/latest/_images/html-button.gif)](https://github.com/MarcSkovMadsen/awesome-panel-extensions/blob/master/examples/guide/html_button/html_button.py)"
   ]
  },
  {
   "cell_type": "code",
   "execution_count": null,
   "metadata": {},
   "outputs": [],
   "source": [
    "import panel as pn\n",
    "import param\n",
    "from panel.reactive import ReactiveHTML\n",
    "pn.extension()"
   ]
  },
  {
   "cell_type": "code",
   "execution_count": null,
   "metadata": {},
   "outputs": [],
   "source": [
    "src = \"https://github.com/holoviz/panel/raw/master/doc/_static/logo_stacked.png\"\n",
    "image_style = \"height:95%;cursor: pointer;border: 1px solid #ddd;border-radius: 4px;padding: 5px;\"\n",
    "DEFAULT_VALUE = f\"<img class='image-button' src='{src}' style='{image_style}'>\"\n",
    "\n",
    "class HTMLButton(ReactiveHTML):\n",
    "    value = param.String(DEFAULT_VALUE, doc=\"Some html defining the element\")\n",
    "    clicks = param.Integer(doc=\"Incremented by each click\")\n",
    "    \n",
    "    _html = \"<div id='div-${id}' onclick='${_click}'>hello</div>\"\n",
    "    \n",
    "    _scripts = {\n",
    "        \"render\": \"\"\"\n",
    "        el=document.getElementById('div-${id}')\n",
    "        console.log(\"${value}\", 'div-${id}')\n",
    "        el.innerHTML=\"${value}\"\n",
    "        \"\"\"\n",
    "    }\n",
    "    \n",
    "    def _click(self, event):\n",
    "        self.clicks += 1\n",
    "    \n",
    "button = HTMLButton(height=200, width=200)"
   ]
  },
  {
   "cell_type": "code",
   "execution_count": null,
   "metadata": {},
   "outputs": [],
   "source": [
    "pn.Row(\n",
    "    button,\n",
    "    pn.Param(button.param.clicks)\n",
    ")"
   ]
  },
  {
   "cell_type": "markdown",
   "metadata": {},
   "source": [
    "Try clicking the HTML button and observing the number of clicks change below. Then try executing the cells below."
   ]
  },
  {
   "cell_type": "code",
   "execution_count": null,
   "metadata": {},
   "outputs": [],
   "source": [
    "button.value=\"<div style='background: blue; height: 100%; width: 100%'></div>\""
   ]
  },
  {
   "cell_type": "code",
   "execution_count": null,
   "metadata": {},
   "outputs": [],
   "source": [
    "button.value=\"<img style='height:100%;width:100%' src='https://upload.wikimedia.org/wikipedia/commons/thumb/b/b0/NewTux.svg/500px-NewTux.svg.png'>\""
   ]
  },
  {
   "cell_type": "code",
   "execution_count": null,
   "metadata": {},
   "outputs": [],
   "source": [
    "button.value=DEFAULT_VALUE"
   ]
  },
  {
   "cell_type": "markdown",
   "metadata": {},
   "source": [
    "### Todo\n",
    "\n",
    "- Explain and Polish"
   ]
  },
  {
   "cell_type": "markdown",
   "metadata": {},
   "source": [
    "##  `PanelButton`\n",
    "\n",
    "In this example we will create a Panel `PanelButton` that will enable the user to catch a click on any Panel he or she would like."
   ]
  },
  {
   "cell_type": "code",
   "execution_count": null,
   "metadata": {},
   "outputs": [],
   "source": [
    "import pandas as pd\n",
    "\n",
    "PANELS = [\n",
    "    pn.pane.Alert(\"## Alert\\nGo ahead and **click me**\"),\n",
    "    pn.pane.Alert(\"## Alert\\nGo ahead and **click me**\", alert_type=\"warning\"),\n",
    "    pn.pane.DataFrame(pd.util.testing.makeDataFrame().head())\n",
    "]\n",
    "COUNT = len(PANELS)"
   ]
  },
  {
   "cell_type": "code",
   "execution_count": null,
   "metadata": {},
   "outputs": [],
   "source": [
    "class PanelButton(ReactiveHTML):\n",
    "    value = param.Parameter(PANELS[0])\n",
    "    clicks = param.Integer(doc=\"Incremented by each click\")\n",
    "    \n",
    "    _html = \"<div id='div-${id}' onclick='${_click}'>${value}</div>\"\n",
    "    \n",
    "    def _click(self, event):\n",
    "        self.clicks += 1\n",
    "        self.value = PANELS[self.clicks % COUNT]\n",
    "        \n",
    "        \n",
    "panel_button = PanelButton(height=100, sizing_mode=\"stretch_width\")"
   ]
  },
  {
   "cell_type": "code",
   "execution_count": null,
   "metadata": {},
   "outputs": [],
   "source": [
    "pn.Column(panel_button, panel_button.param.clicks)"
   ]
  },
  {
   "cell_type": "markdown",
   "metadata": {},
   "source": [
    "Try clicking the panel and see it change. DOES NOT CURRENTLY WORK\n",
    "\n",
    "\n",
    "You can also change it directly as shown below.\n",
    "\n",
    "IT DOES NOT WORK BUT RAISES AN ERROR\n",
    "\n",
    "```bash\n",
    "AttributeError: type object 'PanelButton00055' has no attribute 'value'\n",
    "```"
   ]
  },
  {
   "cell_type": "code",
   "execution_count": null,
   "metadata": {},
   "outputs": [],
   "source": [
    "panel_button.value=PANELS[2]"
   ]
  },
  {
   "cell_type": "markdown",
   "metadata": {},
   "source": [
    "###  Todo\n",
    "\n",
    "- Make example work"
   ]
  }
 ],
 "metadata": {
  "kernelspec": {
   "display_name": "Python 3",
   "language": "python",
   "name": "python3"
  },
  "language_info": {
   "codemirror_mode": {
    "name": "ipython",
    "version": 3
   },
   "file_extension": ".py",
   "mimetype": "text/x-python",
   "name": "python",
   "nbconvert_exporter": "python",
   "pygments_lexer": "ipython3",
   "version": "3.7.8"
  }
 },
 "nbformat": 4,
 "nbformat_minor": 4
}
